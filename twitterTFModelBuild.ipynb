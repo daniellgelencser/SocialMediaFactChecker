{
 "cells": [
  {
   "cell_type": "code",
   "execution_count": 7,
   "metadata": {},
   "outputs": [],
   "source": [
    "import numpy as np\n",
    "import pandas as pd\n",
    "import seaborn as sns\n",
    "import matplotlib.pyplot as plt\n",
    "%matplotlib inline\n",
    "sns.set_style('darkgrid')\n",
    "\n",
    "import nltk\n",
    "from sklearn.preprocessing import LabelBinarizer\n",
    "from nltk.corpus import stopwords\n",
    "from nltk.stem.porter import PorterStemmer\n",
    "from nltk.stem import WordNetLemmatizer\n",
    "from nltk.tokenize import word_tokenize,sent_tokenize\n",
    "from bs4 import BeautifulSoup\n",
    "import re,string,unicodedata\n",
    "from sklearn.feature_extraction.text import TfidfTransformer\n",
    "\n",
    "from keras.preprocessing import text,sequence\n",
    "from nltk.tokenize.toktok import ToktokTokenizer\n",
    "from sklearn.metrics import classification_report,confusion_matrix,accuracy_score\n",
    "from sklearn.model_selection import train_test_split\n",
    "from string import punctuation\n",
    "from nltk import pos_tag\n",
    "from nltk.util import ngrams\n",
    "from nltk.corpus import wordnet\n",
    "import keras\n",
    "from keras.models import Sequential\n",
    "from keras.layers import LSTM,Dense,Dropout,Embedding\n",
    "from keras.callbacks import ReduceLROnPlateau\n",
    "import tensorflow as tf\n",
    "import os\n",
    "import numpy as np\n",
    "import pandas as pd\n",
    "import string\n",
    "\n",
    "from sklearn.feature_extraction.text import CountVectorizer\n",
    "from sklearn.naive_bayes import MultinomialNB\n",
    "from sklearn.pipeline import Pipeline\n",
    "import pickle\n",
    "\n"
   ]
  },
  {
   "cell_type": "code",
   "execution_count": 8,
   "metadata": {},
   "outputs": [
    {
     "name": "stderr",
     "output_type": "stream",
     "text": [
      "[nltk_data] Downloading package stopwords to\n",
      "[nltk_data]     /home/tristan/nltk_data...\n",
      "[nltk_data]   Unzipping corpora/stopwords.zip.\n",
      "[nltk_data] Downloading package punkt to /home/tristan/nltk_data...\n",
      "[nltk_data]   Unzipping tokenizers/punkt.zip.\n"
     ]
    }
   ],
   "source": [
    "\n",
    "nltk.download('stopwords')\n",
    "nltk.download('punkt')\n",
    "from nltk.corpus import stopwords\n",
    "stop = stopwords.words('english')"
   ]
  },
  {
   "cell_type": "code",
   "execution_count": 12,
   "metadata": {},
   "outputs": [],
   "source": [
    "data = pd.DataFrame()\n",
    "datadir = 'data/twittertf'\n",
    "realorfake = {\"True\":1,\"Fake\":0}\n",
    "\n",
    "for dir in os.listdir(datadir):\n",
    "    temp_data = pd.read_csv(datadir + \"/\" +  dir)\n",
    "    temp_data = temp_data.assign(real = realorfake.get(dir.split(\".\")[0]) )\n",
    "    data = data.append(temp_data)"
   ]
  },
  {
   "cell_type": "code",
   "execution_count": 13,
   "metadata": {},
   "outputs": [
    {
     "data": {
      "text/html": [
       "<div>\n",
       "<style scoped>\n",
       "    .dataframe tbody tr th:only-of-type {\n",
       "        vertical-align: middle;\n",
       "    }\n",
       "\n",
       "    .dataframe tbody tr th {\n",
       "        vertical-align: top;\n",
       "    }\n",
       "\n",
       "    .dataframe thead th {\n",
       "        text-align: right;\n",
       "    }\n",
       "</style>\n",
       "<table border=\"1\" class=\"dataframe\">\n",
       "  <thead>\n",
       "    <tr style=\"text-align: right;\">\n",
       "      <th></th>\n",
       "      <th>title</th>\n",
       "      <th>text</th>\n",
       "      <th>subject</th>\n",
       "      <th>date</th>\n",
       "      <th>real</th>\n",
       "    </tr>\n",
       "  </thead>\n",
       "  <tbody>\n",
       "    <tr>\n",
       "      <th>19728</th>\n",
       "      <td>GUESS WHO’S BEHIND Sickening Ad Showing Boy Be...</td>\n",
       "      <td>This ad is disgusting in so many ways. The vid...</td>\n",
       "      <td>left-news</td>\n",
       "      <td>Oct 27, 2016</td>\n",
       "      <td>0</td>\n",
       "    </tr>\n",
       "    <tr>\n",
       "      <th>8206</th>\n",
       "      <td>Clinton regrets calling 'half' of Trump suppor...</td>\n",
       "      <td>NEW YORK (Reuters) - Democratic presidential c...</td>\n",
       "      <td>politicsNews</td>\n",
       "      <td>September 10, 2016</td>\n",
       "      <td>1</td>\n",
       "    </tr>\n",
       "    <tr>\n",
       "      <th>7116</th>\n",
       "      <td>Should I stay or should I go? U.S. civil serva...</td>\n",
       "      <td>WASHINGTON (Reuters) - Donald Trump’s surprise...</td>\n",
       "      <td>politicsNews</td>\n",
       "      <td>November 22, 2016</td>\n",
       "      <td>1</td>\n",
       "    </tr>\n",
       "    <tr>\n",
       "      <th>17426</th>\n",
       "      <td>THEIR EVIL KNOWS NO BOUNDS: TALIBAN EXECUTES 5...</td>\n",
       "      <td>The Taliban or ISIS? Does it really matter? Ra...</td>\n",
       "      <td>Government News</td>\n",
       "      <td>Apr 13, 2015</td>\n",
       "      <td>0</td>\n",
       "    </tr>\n",
       "    <tr>\n",
       "      <th>6488</th>\n",
       "      <td>Trump calls storm over Russia hacking 'politic...</td>\n",
       "      <td>WASHINGTON (Reuters) - President-elect Donald ...</td>\n",
       "      <td>politicsNews</td>\n",
       "      <td>January 6, 2017</td>\n",
       "      <td>1</td>\n",
       "    </tr>\n",
       "  </tbody>\n",
       "</table>\n",
       "</div>"
      ],
      "text/plain": [
       "                                                   title  \\\n",
       "19728  GUESS WHO’S BEHIND Sickening Ad Showing Boy Be...   \n",
       "8206   Clinton regrets calling 'half' of Trump suppor...   \n",
       "7116   Should I stay or should I go? U.S. civil serva...   \n",
       "17426  THEIR EVIL KNOWS NO BOUNDS: TALIBAN EXECUTES 5...   \n",
       "6488   Trump calls storm over Russia hacking 'politic...   \n",
       "\n",
       "                                                    text          subject  \\\n",
       "19728  This ad is disgusting in so many ways. The vid...        left-news   \n",
       "8206   NEW YORK (Reuters) - Democratic presidential c...     politicsNews   \n",
       "7116   WASHINGTON (Reuters) - Donald Trump’s surprise...     politicsNews   \n",
       "17426  The Taliban or ISIS? Does it really matter? Ra...  Government News   \n",
       "6488   WASHINGTON (Reuters) - President-elect Donald ...     politicsNews   \n",
       "\n",
       "                      date  real  \n",
       "19728         Oct 27, 2016     0  \n",
       "8206   September 10, 2016      1  \n",
       "7116    November 22, 2016      1  \n",
       "17426         Apr 13, 2015     0  \n",
       "6488      January 6, 2017      1  "
      ]
     },
     "execution_count": 13,
     "metadata": {},
     "output_type": "execute_result"
    }
   ],
   "source": [
    "data.sample(5)"
   ]
  },
  {
   "cell_type": "code",
   "execution_count": 14,
   "metadata": {},
   "outputs": [],
   "source": [
    "stop_words=set(stopwords.words('english'))\n",
    "punctuation=list(string.punctuation)\n",
    "stop_words.update(punctuation)"
   ]
  },
  {
   "cell_type": "code",
   "execution_count": 15,
   "metadata": {},
   "outputs": [],
   "source": [
    "def string_html(text):\n",
    "    soup=BeautifulSoup(text,\"html.parser\")\n",
    "    return soup.get_text()\n",
    "\n",
    "def remove_square_brackets(text):\n",
    "    return re.sub('\\[[^]]*\\]','',text)\n",
    "\n",
    "def remove_URL(text):\n",
    "    return re.sub(r'http\\S+','',text)\n",
    "\n",
    "def remove_stopwords(text):\n",
    "    final_text=[]\n",
    "    for i in text.split():\n",
    "        if i.strip().lower() not in stop_words:\n",
    "            final_text.append(i.strip())\n",
    "    return \" \".join(final_text)\n",
    "\n",
    "def remove_HashOrAT(text):\n",
    "    return re.sub('@|#','',text)\n",
    "\n",
    "def remove_puncuation(text):\n",
    "    return text.translate(str.maketrans('','',string.punctuation))\n",
    "\n",
    "def remove_uppercase(text):\n",
    "    return text.lower()\n",
    "    \n",
    "\n",
    "def clean_text_data(text):\n",
    "    text=string_html(text)\n",
    "    text=remove_square_brackets(text)\n",
    "    text=remove_URL(text)\n",
    "    text=remove_HashOrAT(text)\n",
    "    text=remove_puncuation(text)\n",
    "    text=remove_uppercase(text)\n",
    "    return text"
   ]
  },
  {
   "cell_type": "code",
   "execution_count": null,
   "metadata": {},
   "outputs": [],
   "source": [
    "\n",
    "#data['text']=data['text'].apply(clean_text_data)"
   ]
  },
  {
   "cell_type": "code",
   "execution_count": 16,
   "metadata": {},
   "outputs": [],
   "source": [
    "X_train,X_test,y_train,y_test=train_test_split(data.text,data.real,random_state=0)"
   ]
  },
  {
   "cell_type": "code",
   "execution_count": 17,
   "metadata": {},
   "outputs": [],
   "source": [
    "text_clf = Pipeline(\n",
    "    [('vec', CountVectorizer(preprocessor=clean_text_data, ngram_range=(1,3))),\n",
    "    ('tfidf', TfidfTransformer()),\n",
    "    ('clf', MultinomialNB()),\n",
    "    ])\n"
   ]
  },
  {
   "cell_type": "code",
   "execution_count": 18,
   "metadata": {},
   "outputs": [
    {
     "name": "stderr",
     "output_type": "stream",
     "text": [
      "/home/tristan/anaconda3/envs/mir/lib/python3.8/site-packages/bs4/__init__.py:431: MarkupResemblesLocatorWarning: \"https://www.youtube.com/watch?v=PjeOoJyPNCk\" looks like a URL. Beautiful Soup is not an HTTP client. You should probably use an HTTP client like requests to get the document behind the URL, and feed that document to Beautiful Soup.\n",
      "  warnings.warn(\n",
      "/home/tristan/anaconda3/envs/mir/lib/python3.8/site-packages/bs4/__init__.py:431: MarkupResemblesLocatorWarning: \"https://100percentfedup.com/served-roy-moore-vietnamletter-veteran-sets-record-straight-honorable-decent-respectable-patriotic-commander-soldier/\" looks like a URL. Beautiful Soup is not an HTTP client. You should probably use an HTTP client like requests to get the document behind the URL, and feed that document to Beautiful Soup.\n",
      "  warnings.warn(\n",
      "/home/tristan/anaconda3/envs/mir/lib/python3.8/site-packages/bs4/__init__.py:431: MarkupResemblesLocatorWarning: \"https://www.youtube.com/watch?v=Ws5ojb0PCCo\" looks like a URL. Beautiful Soup is not an HTTP client. You should probably use an HTTP client like requests to get the document behind the URL, and feed that document to Beautiful Soup.\n",
      "  warnings.warn(\n",
      "/home/tristan/anaconda3/envs/mir/lib/python3.8/site-packages/bs4/__init__.py:431: MarkupResemblesLocatorWarning: \"https://www.youtube.com/watch?time_continue=2&v=IjWClQcKhD8\" looks like a URL. Beautiful Soup is not an HTTP client. You should probably use an HTTP client like requests to get the document behind the URL, and feed that document to Beautiful Soup.\n",
      "  warnings.warn(\n",
      "/home/tristan/anaconda3/envs/mir/lib/python3.8/site-packages/bs4/__init__.py:431: MarkupResemblesLocatorWarning: \"https://fedup.wpengine.com/wp-content/uploads/2015/04/entitled.jpg\" looks like a URL. Beautiful Soup is not an HTTP client. You should probably use an HTTP client like requests to get the document behind the URL, and feed that document to Beautiful Soup.\n",
      "  warnings.warn(\n",
      "/home/tristan/anaconda3/envs/mir/lib/python3.8/site-packages/bs4/__init__.py:431: MarkupResemblesLocatorWarning: \"https://www.youtube.com/watch?v=_FNt3ns_EGA\" looks like a URL. Beautiful Soup is not an HTTP client. You should probably use an HTTP client like requests to get the document behind the URL, and feed that document to Beautiful Soup.\n",
      "  warnings.warn(\n",
      "/home/tristan/anaconda3/envs/mir/lib/python3.8/site-packages/bs4/__init__.py:431: MarkupResemblesLocatorWarning: \"https://www.youtube.com/watch?v=HXJZbPAf0sk\" looks like a URL. Beautiful Soup is not an HTTP client. You should probably use an HTTP client like requests to get the document behind the URL, and feed that document to Beautiful Soup.\n",
      "  warnings.warn(\n",
      "/home/tristan/anaconda3/envs/mir/lib/python3.8/site-packages/bs4/__init__.py:431: MarkupResemblesLocatorWarning: \"https://fedup.wpengine.com/wp-content/uploads/2015/04/hillarystreetart.jpg\" looks like a URL. Beautiful Soup is not an HTTP client. You should probably use an HTTP client like requests to get the document behind the URL, and feed that document to Beautiful Soup.\n",
      "  warnings.warn(\n",
      "/home/tristan/anaconda3/envs/mir/lib/python3.8/site-packages/bs4/__init__.py:431: MarkupResemblesLocatorWarning: \"https://www.youtube.com/watch?v=CCr0qvehJIk\" looks like a URL. Beautiful Soup is not an HTTP client. You should probably use an HTTP client like requests to get the document behind the URL, and feed that document to Beautiful Soup.\n",
      "  warnings.warn(\n",
      "/home/tristan/anaconda3/envs/mir/lib/python3.8/site-packages/bs4/__init__.py:431: MarkupResemblesLocatorWarning: \"https://www.youtube.com/watch?v=DRLVvYzG46w\" looks like a URL. Beautiful Soup is not an HTTP client. You should probably use an HTTP client like requests to get the document behind the URL, and feed that document to Beautiful Soup.\n",
      "  warnings.warn(\n",
      "/home/tristan/anaconda3/envs/mir/lib/python3.8/site-packages/bs4/__init__.py:431: MarkupResemblesLocatorWarning: \"https://www.youtube.com/watch?v=VkRCtn0nEvU\" looks like a URL. Beautiful Soup is not an HTTP client. You should probably use an HTTP client like requests to get the document behind the URL, and feed that document to Beautiful Soup.\n",
      "  warnings.warn(\n",
      "/home/tristan/anaconda3/envs/mir/lib/python3.8/site-packages/bs4/__init__.py:431: MarkupResemblesLocatorWarning: \"https://www.youtube.com/watch?v=wYdX071Nlow\" looks like a URL. Beautiful Soup is not an HTTP client. You should probably use an HTTP client like requests to get the document behind the URL, and feed that document to Beautiful Soup.\n",
      "  warnings.warn(\n",
      "/home/tristan/anaconda3/envs/mir/lib/python3.8/site-packages/bs4/__init__.py:431: MarkupResemblesLocatorWarning: \"https://www.youtube.com/watch?v=P-TBfkqk7gU\" looks like a URL. Beautiful Soup is not an HTTP client. You should probably use an HTTP client like requests to get the document behind the URL, and feed that document to Beautiful Soup.\n",
      "  warnings.warn(\n",
      "/home/tristan/anaconda3/envs/mir/lib/python3.8/site-packages/bs4/__init__.py:431: MarkupResemblesLocatorWarning: \"https://www.youtube.com/watch?v=sWbYpIj7CQ8\" looks like a URL. Beautiful Soup is not an HTTP client. You should probably use an HTTP client like requests to get the document behind the URL, and feed that document to Beautiful Soup.\n",
      "  warnings.warn(\n",
      "/home/tristan/anaconda3/envs/mir/lib/python3.8/site-packages/bs4/__init__.py:431: MarkupResemblesLocatorWarning: \"https://www.youtube.com/watch?v=8Mehk5eWcZA\" looks like a URL. Beautiful Soup is not an HTTP client. You should probably use an HTTP client like requests to get the document behind the URL, and feed that document to Beautiful Soup.\n",
      "  warnings.warn(\n",
      "/home/tristan/anaconda3/envs/mir/lib/python3.8/site-packages/bs4/__init__.py:431: MarkupResemblesLocatorWarning: \"https://www.youtube.com/watch?time_continue=1&v=NeqMSI6OR5Q\" looks like a URL. Beautiful Soup is not an HTTP client. You should probably use an HTTP client like requests to get the document behind the URL, and feed that document to Beautiful Soup.\n",
      "  warnings.warn(\n",
      "/home/tristan/anaconda3/envs/mir/lib/python3.8/site-packages/bs4/__init__.py:431: MarkupResemblesLocatorWarning: \"https://www.youtube.com/watch?v=IioEIUmawRo\" looks like a URL. Beautiful Soup is not an HTTP client. You should probably use an HTTP client like requests to get the document behind the URL, and feed that document to Beautiful Soup.\n",
      "  warnings.warn(\n",
      "/home/tristan/anaconda3/envs/mir/lib/python3.8/site-packages/bs4/__init__.py:431: MarkupResemblesLocatorWarning: \"https://youtu.be/Ai5ayloRa-0\" looks like a URL. Beautiful Soup is not an HTTP client. You should probably use an HTTP client like requests to get the document behind the URL, and feed that document to Beautiful Soup.\n",
      "  warnings.warn(\n",
      "/home/tristan/anaconda3/envs/mir/lib/python3.8/site-packages/bs4/__init__.py:431: MarkupResemblesLocatorWarning: \"https://www.youtube.com/watch?v=gqxwF-TeYas\" looks like a URL. Beautiful Soup is not an HTTP client. You should probably use an HTTP client like requests to get the document behind the URL, and feed that document to Beautiful Soup.\n",
      "  warnings.warn(\n",
      "/home/tristan/anaconda3/envs/mir/lib/python3.8/site-packages/bs4/__init__.py:431: MarkupResemblesLocatorWarning: \"https://www.youtube.com/watch?v=EOr9fwoc_mo\" looks like a URL. Beautiful Soup is not an HTTP client. You should probably use an HTTP client like requests to get the document behind the URL, and feed that document to Beautiful Soup.\n",
      "  warnings.warn(\n",
      "/home/tristan/anaconda3/envs/mir/lib/python3.8/site-packages/bs4/__init__.py:431: MarkupResemblesLocatorWarning: \"https://www.youtube.com/watch?v=hNPX8ZCIfc0&t=26s\" looks like a URL. Beautiful Soup is not an HTTP client. You should probably use an HTTP client like requests to get the document behind the URL, and feed that document to Beautiful Soup.\n",
      "  warnings.warn(\n",
      "/home/tristan/anaconda3/envs/mir/lib/python3.8/site-packages/bs4/__init__.py:431: MarkupResemblesLocatorWarning: \"https://www.youtube.com/watch?v=aHkNzBRqPCE\" looks like a URL. Beautiful Soup is not an HTTP client. You should probably use an HTTP client like requests to get the document behind the URL, and feed that document to Beautiful Soup.\n",
      "  warnings.warn(\n",
      "/home/tristan/anaconda3/envs/mir/lib/python3.8/site-packages/bs4/__init__.py:431: MarkupResemblesLocatorWarning: \"https://www.youtube.com/watch?v=IPqrimR8GWw\" looks like a URL. Beautiful Soup is not an HTTP client. You should probably use an HTTP client like requests to get the document behind the URL, and feed that document to Beautiful Soup.\n",
      "  warnings.warn(\n",
      "/home/tristan/anaconda3/envs/mir/lib/python3.8/site-packages/bs4/__init__.py:431: MarkupResemblesLocatorWarning: \"https://100percentfedup.com/video-hillary-asked-about-trump-i-just-want-to-eat-some-pie/\" looks like a URL. Beautiful Soup is not an HTTP client. You should probably use an HTTP client like requests to get the document behind the URL, and feed that document to Beautiful Soup.\n",
      "  warnings.warn(\n",
      "/home/tristan/anaconda3/envs/mir/lib/python3.8/site-packages/bs4/__init__.py:431: MarkupResemblesLocatorWarning: \"https://www.youtube.com/watch?v=9LNyx_DWzzA\" looks like a URL. Beautiful Soup is not an HTTP client. You should probably use an HTTP client like requests to get the document behind the URL, and feed that document to Beautiful Soup.\n",
      "  warnings.warn(\n",
      "/home/tristan/anaconda3/envs/mir/lib/python3.8/site-packages/bs4/__init__.py:431: MarkupResemblesLocatorWarning: \"https://www.youtube.com/watch?feature=player_embedded&v=JebHe3049aA\" looks like a URL. Beautiful Soup is not an HTTP client. You should probably use an HTTP client like requests to get the document behind the URL, and feed that document to Beautiful Soup.\n",
      "  warnings.warn(\n",
      "/home/tristan/anaconda3/envs/mir/lib/python3.8/site-packages/bs4/__init__.py:431: MarkupResemblesLocatorWarning: \"https://www.youtube.com/watch?v=-7Tn4gi_Os8\" looks like a URL. Beautiful Soup is not an HTTP client. You should probably use an HTTP client like requests to get the document behind the URL, and feed that document to Beautiful Soup.\n",
      "  warnings.warn(\n",
      "/home/tristan/anaconda3/envs/mir/lib/python3.8/site-packages/bs4/__init__.py:431: MarkupResemblesLocatorWarning: \"https://www.youtube.com/watch?v=tY0ApLE6dns\" looks like a URL. Beautiful Soup is not an HTTP client. You should probably use an HTTP client like requests to get the document behind the URL, and feed that document to Beautiful Soup.\n",
      "  warnings.warn(\n",
      "/home/tristan/anaconda3/envs/mir/lib/python3.8/site-packages/bs4/__init__.py:431: MarkupResemblesLocatorWarning: \"https://www.youtube.com/watch?v=SH0pRtK9sAE\" looks like a URL. Beautiful Soup is not an HTTP client. You should probably use an HTTP client like requests to get the document behind the URL, and feed that document to Beautiful Soup.\n",
      "  warnings.warn(\n",
      "/home/tristan/anaconda3/envs/mir/lib/python3.8/site-packages/bs4/__init__.py:431: MarkupResemblesLocatorWarning: \"https://www.youtube.com/watch?v=31MRqr9ydUU\" looks like a URL. Beautiful Soup is not an HTTP client. You should probably use an HTTP client like requests to get the document behind the URL, and feed that document to Beautiful Soup.\n",
      "  warnings.warn(\n",
      "/home/tristan/anaconda3/envs/mir/lib/python3.8/site-packages/bs4/__init__.py:431: MarkupResemblesLocatorWarning: \"https://youtu.be/0J4xPRYbsLU\" looks like a URL. Beautiful Soup is not an HTTP client. You should probably use an HTTP client like requests to get the document behind the URL, and feed that document to Beautiful Soup.\n",
      "  warnings.warn(\n",
      "/home/tristan/anaconda3/envs/mir/lib/python3.8/site-packages/bs4/__init__.py:431: MarkupResemblesLocatorWarning: \"https://www.youtube.com/watch?v=J4LjxrOfEF8\" looks like a URL. Beautiful Soup is not an HTTP client. You should probably use an HTTP client like requests to get the document behind the URL, and feed that document to Beautiful Soup.\n",
      "  warnings.warn(\n",
      "/home/tristan/anaconda3/envs/mir/lib/python3.8/site-packages/bs4/__init__.py:431: MarkupResemblesLocatorWarning: \"https://www.youtube.com/watch?v=8dsDdBqF828\" looks like a URL. Beautiful Soup is not an HTTP client. You should probably use an HTTP client like requests to get the document behind the URL, and feed that document to Beautiful Soup.\n",
      "  warnings.warn(\n",
      "/home/tristan/anaconda3/envs/mir/lib/python3.8/site-packages/bs4/__init__.py:431: MarkupResemblesLocatorWarning: \"https://www.youtube.com/watch?v=cJZFepSvxzM\" looks like a URL. Beautiful Soup is not an HTTP client. You should probably use an HTTP client like requests to get the document behind the URL, and feed that document to Beautiful Soup.\n",
      "  warnings.warn(\n",
      "/home/tristan/anaconda3/envs/mir/lib/python3.8/site-packages/bs4/__init__.py:431: MarkupResemblesLocatorWarning: \"https://youtu.be/kKFQ5i9jXmA\" looks like a URL. Beautiful Soup is not an HTTP client. You should probably use an HTTP client like requests to get the document behind the URL, and feed that document to Beautiful Soup.\n",
      "  warnings.warn(\n",
      "/home/tristan/anaconda3/envs/mir/lib/python3.8/site-packages/bs4/__init__.py:431: MarkupResemblesLocatorWarning: \"https://twitter.com/Rosie/status/800939338615824384\" looks like a URL. Beautiful Soup is not an HTTP client. You should probably use an HTTP client like requests to get the document behind the URL, and feed that document to Beautiful Soup.\n",
      "  warnings.warn(\n",
      "/home/tristan/anaconda3/envs/mir/lib/python3.8/site-packages/bs4/__init__.py:431: MarkupResemblesLocatorWarning: \"https://www.youtube.com/watch?v=YeDU6dCR9tA\" looks like a URL. Beautiful Soup is not an HTTP client. You should probably use an HTTP client like requests to get the document behind the URL, and feed that document to Beautiful Soup.\n",
      "  warnings.warn(\n",
      "/home/tristan/anaconda3/envs/mir/lib/python3.8/site-packages/bs4/__init__.py:431: MarkupResemblesLocatorWarning: \"https://www.youtube.com/watch?v=6VN1maBEKIk\" looks like a URL. Beautiful Soup is not an HTTP client. You should probably use an HTTP client like requests to get the document behind the URL, and feed that document to Beautiful Soup.\n",
      "  warnings.warn(\n",
      "/home/tristan/anaconda3/envs/mir/lib/python3.8/site-packages/bs4/__init__.py:431: MarkupResemblesLocatorWarning: \"https://www.youtube.com/watch?v=rUr8pYr5AXs\" looks like a URL. Beautiful Soup is not an HTTP client. You should probably use an HTTP client like requests to get the document behind the URL, and feed that document to Beautiful Soup.\n",
      "  warnings.warn(\n",
      "/home/tristan/anaconda3/envs/mir/lib/python3.8/site-packages/bs4/__init__.py:431: MarkupResemblesLocatorWarning: \"https://www.youtube.com/watch?v=zZ7GrEItGoo\" looks like a URL. Beautiful Soup is not an HTTP client. You should probably use an HTTP client like requests to get the document behind the URL, and feed that document to Beautiful Soup.\n",
      "  warnings.warn(\n",
      "/home/tristan/anaconda3/envs/mir/lib/python3.8/site-packages/bs4/__init__.py:431: MarkupResemblesLocatorWarning: \"https://www.youtube.com/watch?v=uQbAww5wajA\" looks like a URL. Beautiful Soup is not an HTTP client. You should probably use an HTTP client like requests to get the document behind the URL, and feed that document to Beautiful Soup.\n",
      "  warnings.warn(\n",
      "/home/tristan/anaconda3/envs/mir/lib/python3.8/site-packages/bs4/__init__.py:431: MarkupResemblesLocatorWarning: \"https://www.youtube.com/watch?time_continue=139&v=Iil1Z8-A1GA\" looks like a URL. Beautiful Soup is not an HTTP client. You should probably use an HTTP client like requests to get the document behind the URL, and feed that document to Beautiful Soup.\n",
      "  warnings.warn(\n",
      "/home/tristan/anaconda3/envs/mir/lib/python3.8/site-packages/bs4/__init__.py:431: MarkupResemblesLocatorWarning: \"https://www.youtube.com/watch?v=n9tfNMQpYWU\" looks like a URL. Beautiful Soup is not an HTTP client. You should probably use an HTTP client like requests to get the document behind the URL, and feed that document to Beautiful Soup.\n",
      "  warnings.warn(\n",
      "/home/tristan/anaconda3/envs/mir/lib/python3.8/site-packages/bs4/__init__.py:431: MarkupResemblesLocatorWarning: \"https://www.youtube.com/watch?v=1RVqTfIKGbU\" looks like a URL. Beautiful Soup is not an HTTP client. You should probably use an HTTP client like requests to get the document behind the URL, and feed that document to Beautiful Soup.\n",
      "  warnings.warn(\n"
     ]
    }
   ],
   "source": [
    "text_clf = text_clf.fit(X_train, y_train)"
   ]
  },
  {
   "cell_type": "code",
   "execution_count": 19,
   "metadata": {},
   "outputs": [
    {
     "name": "stderr",
     "output_type": "stream",
     "text": [
      "/home/tristan/anaconda3/envs/mir/lib/python3.8/site-packages/bs4/__init__.py:431: MarkupResemblesLocatorWarning: \"https://www.youtube.com/watch?v=ISm-p8e-D7I\" looks like a URL. Beautiful Soup is not an HTTP client. You should probably use an HTTP client like requests to get the document behind the URL, and feed that document to Beautiful Soup.\n",
      "  warnings.warn(\n",
      "/home/tristan/anaconda3/envs/mir/lib/python3.8/site-packages/bs4/__init__.py:431: MarkupResemblesLocatorWarning: \"https://www.youtube.com/watch?v=9LNyx_DWzzA\" looks like a URL. Beautiful Soup is not an HTTP client. You should probably use an HTTP client like requests to get the document behind the URL, and feed that document to Beautiful Soup.\n",
      "  warnings.warn(\n",
      "/home/tristan/anaconda3/envs/mir/lib/python3.8/site-packages/bs4/__init__.py:431: MarkupResemblesLocatorWarning: \"https://youtu.be/RTuxvWjH3a4\" looks like a URL. Beautiful Soup is not an HTTP client. You should probably use an HTTP client like requests to get the document behind the URL, and feed that document to Beautiful Soup.\n",
      "  warnings.warn(\n",
      "/home/tristan/anaconda3/envs/mir/lib/python3.8/site-packages/bs4/__init__.py:431: MarkupResemblesLocatorWarning: \"https://www.youtube.com/watch?v=RRPSCqkAJgk\" looks like a URL. Beautiful Soup is not an HTTP client. You should probably use an HTTP client like requests to get the document behind the URL, and feed that document to Beautiful Soup.\n",
      "  warnings.warn(\n",
      "/home/tristan/anaconda3/envs/mir/lib/python3.8/site-packages/bs4/__init__.py:431: MarkupResemblesLocatorWarning: \"https://twitter.com/Rosie/status/800939338615824384\" looks like a URL. Beautiful Soup is not an HTTP client. You should probably use an HTTP client like requests to get the document behind the URL, and feed that document to Beautiful Soup.\n",
      "  warnings.warn(\n",
      "/home/tristan/anaconda3/envs/mir/lib/python3.8/site-packages/bs4/__init__.py:431: MarkupResemblesLocatorWarning: \"https://www.youtube.com/watch?v=0cVugq2GbBk\" looks like a URL. Beautiful Soup is not an HTTP client. You should probably use an HTTP client like requests to get the document behind the URL, and feed that document to Beautiful Soup.\n",
      "  warnings.warn(\n",
      "/home/tristan/anaconda3/envs/mir/lib/python3.8/site-packages/bs4/__init__.py:431: MarkupResemblesLocatorWarning: \"https://www.youtube.com/watch?v=sMHGkzrwzKg\" looks like a URL. Beautiful Soup is not an HTTP client. You should probably use an HTTP client like requests to get the document behind the URL, and feed that document to Beautiful Soup.\n",
      "  warnings.warn(\n",
      "/home/tristan/anaconda3/envs/mir/lib/python3.8/site-packages/bs4/__init__.py:431: MarkupResemblesLocatorWarning: \"https://www.youtube.com/watch?v=_FNt3ns_EGA\" looks like a URL. Beautiful Soup is not an HTTP client. You should probably use an HTTP client like requests to get the document behind the URL, and feed that document to Beautiful Soup.\n",
      "  warnings.warn(\n",
      "/home/tristan/anaconda3/envs/mir/lib/python3.8/site-packages/bs4/__init__.py:431: MarkupResemblesLocatorWarning: \"https://youtu.be/7oOhwHG2Gb4\" looks like a URL. Beautiful Soup is not an HTTP client. You should probably use an HTTP client like requests to get the document behind the URL, and feed that document to Beautiful Soup.\n",
      "  warnings.warn(\n",
      "/home/tristan/anaconda3/envs/mir/lib/python3.8/site-packages/bs4/__init__.py:431: MarkupResemblesLocatorWarning: \"https://www.youtube.com/watch?v=IioEIUmawRo\" looks like a URL. Beautiful Soup is not an HTTP client. You should probably use an HTTP client like requests to get the document behind the URL, and feed that document to Beautiful Soup.\n",
      "  warnings.warn(\n",
      "/home/tristan/anaconda3/envs/mir/lib/python3.8/site-packages/bs4/__init__.py:431: MarkupResemblesLocatorWarning: \"https://100percentfedup.com/12-yr-old-black-conservative-whose-video-to-obama-went-viral-do-you-really-love-america-receives-death-threats-from-left/\" looks like a URL. Beautiful Soup is not an HTTP client. You should probably use an HTTP client like requests to get the document behind the URL, and feed that document to Beautiful Soup.\n",
      "  warnings.warn(\n",
      "/home/tristan/anaconda3/envs/mir/lib/python3.8/site-packages/bs4/__init__.py:431: MarkupResemblesLocatorWarning: \"https://www.youtube.com/watch?time_continue=139&v=Iil1Z8-A1GA\" looks like a URL. Beautiful Soup is not an HTTP client. You should probably use an HTTP client like requests to get the document behind the URL, and feed that document to Beautiful Soup.\n",
      "  warnings.warn(\n",
      "/home/tristan/anaconda3/envs/mir/lib/python3.8/site-packages/bs4/__init__.py:431: MarkupResemblesLocatorWarning: \"https://www.youtube.com/watch?v=J4LjxrOfEF8\" looks like a URL. Beautiful Soup is not an HTTP client. You should probably use an HTTP client like requests to get the document behind the URL, and feed that document to Beautiful Soup.\n",
      "  warnings.warn(\n",
      "/home/tristan/anaconda3/envs/mir/lib/python3.8/site-packages/bs4/__init__.py:431: MarkupResemblesLocatorWarning: \"https://www.youtube.com/watch?v=zZ7GrEItGoo\" looks like a URL. Beautiful Soup is not an HTTP client. You should probably use an HTTP client like requests to get the document behind the URL, and feed that document to Beautiful Soup.\n",
      "  warnings.warn(\n",
      "/home/tristan/anaconda3/envs/mir/lib/python3.8/site-packages/bs4/__init__.py:431: MarkupResemblesLocatorWarning: \"https://www.youtube.com/watch?v=uCS4RB9G13M\" looks like a URL. Beautiful Soup is not an HTTP client. You should probably use an HTTP client like requests to get the document behind the URL, and feed that document to Beautiful Soup.\n",
      "  warnings.warn(\n"
     ]
    },
    {
     "data": {
      "text/plain": [
       "0.9652561247216036"
      ]
     },
     "execution_count": 19,
     "metadata": {},
     "output_type": "execute_result"
    }
   ],
   "source": [
    "predicted = text_clf.predict(X_test)\n",
    "np.mean(predicted == y_test)"
   ]
  },
  {
   "cell_type": "code",
   "execution_count": 20,
   "metadata": {},
   "outputs": [
    {
     "data": {
      "text/plain": [
       "array([0])"
      ]
     },
     "execution_count": 20,
     "metadata": {},
     "output_type": "execute_result"
    }
   ],
   "source": [
    "text_clf.predict([\"Donald Trump is President of the United States\"])"
   ]
  },
  {
   "cell_type": "code",
   "execution_count": 21,
   "metadata": {},
   "outputs": [],
   "source": [
    "with open(\"twitterTFModel.pkl\",'wb') as file:\n",
    "    pickle.dump(text_clf, file)\n",
    "    "
   ]
  },
  {
   "cell_type": "code",
   "execution_count": 22,
   "metadata": {},
   "outputs": [],
   "source": [
    "class model1_tweets:\n",
    "    def __init__(self):\n",
    "        self.model = pickle.load(open(\"twitterTFModel.pkl\",'rb'))\n",
    "        self.key = realorfake = {\"True\":1,\"False\":0}\n",
    "        \n",
    "    \n",
    "    def preditWithText(self, text):\n",
    "        return self.model.predict([text])[0]\n",
    "\n",
    "    def return_str(self, text):\n",
    "        if self.preditWithText(text) == 0:\n",
    "            return False\n",
    "        else:\n",
    "            return True\n",
    "        "
   ]
  },
  {
   "cell_type": "code",
   "execution_count": 23,
   "metadata": {},
   "outputs": [
    {
     "data": {
      "text/plain": [
       "0"
      ]
     },
     "execution_count": 23,
     "metadata": {},
     "output_type": "execute_result"
    }
   ],
   "source": [
    "newText = model1_tweets()\n",
    "newText.preditWithText(\"Donald Trump is President\")"
   ]
  }
 ],
 "metadata": {
  "interpreter": {
   "hash": "654dd77d1753ac1e3fb7ea93f4452340a94bf76edae2b51bda429fccd972a95a"
  },
  "kernelspec": {
   "display_name": "Python 3.8.8 64-bit ('base': conda)",
   "language": "python",
   "name": "python3"
  },
  "language_info": {
   "codemirror_mode": {
    "name": "ipython",
    "version": 3
   },
   "file_extension": ".py",
   "mimetype": "text/x-python",
   "name": "python",
   "nbconvert_exporter": "python",
   "pygments_lexer": "ipython3",
   "version": "3.8.5"
  },
  "orig_nbformat": 4
 },
 "nbformat": 4,
 "nbformat_minor": 2
}
